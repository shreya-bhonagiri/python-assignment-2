{
  "nbformat": 4,
  "nbformat_minor": 0,
  "metadata": {
    "colab": {
      "name": "Untitled1.ipynb",
      "provenance": [],
      "authorship_tag": "ABX9TyO0w0UvAbxw10iHkVhUy++x",
      "include_colab_link": true
    },
    "kernelspec": {
      "name": "python3",
      "display_name": "Python 3"
    }
  },
  "cells": [
    {
      "cell_type": "markdown",
      "metadata": {
        "id": "view-in-github",
        "colab_type": "text"
      },
      "source": [
        "<a href=\"https://colab.research.google.com/github/shreya-bhonagiri/python-assignment-2/blob/master/Untitled1.ipynb\" target=\"_parent\"><img src=\"https://colab.research.google.com/assets/colab-badge.svg\" alt=\"Open In Colab\"/></a>"
      ]
    },
    {
      "cell_type": "code",
      "metadata": {
        "id": "vFODncL5NS-v",
        "colab_type": "code",
        "colab": {
          "base_uri": "https://localhost:8080/",
          "height": 50
        },
        "outputId": "a34c49ce-5dfd-41bc-d56e-52babbfbca2a"
      },
      "source": [
        "#1Q:program for given data scenario\n",
        "year = int(input(\"enter the year to know the animal:\"))\n",
        "if year % 12==0 :\n",
        "   print(\"monkey\")\n",
        "elif year % 12==1 :\n",
        "     print(\"rooster\")\n",
        "elif year % 12==2 :\n",
        "     print(\"dog\")\n",
        "elif year % 12==3 :\n",
        "     print(\"pig\")\n",
        "elif year % 12==4 :\n",
        "     print(\"rat\")\n",
        "elif year % 12==5 :\n",
        "     print(\"ox\")\n",
        "elif year % 12==6 :\n",
        "     print(\"tiger\")\n",
        "elif year % 12==7 :\n",
        "     print(\"rabbit\")\n",
        "elif year % 12==8 :\n",
        "     print(\"dragon\")\n",
        "elif year % 12==9 :\n",
        "     print(\"snake\")\n",
        "elif year % 12==10 :\n",
        "     print(\"horse\")\n",
        "else :\n",
        "     print(\"sheep\")\n"
      ],
      "execution_count": 77,
      "outputs": [
        {
          "output_type": "stream",
          "text": [
            "enter the year to know the animal:8\n",
            "dragon\n"
          ],
          "name": "stdout"
        }
      ]
    },
    {
      "cell_type": "code",
      "metadata": {
        "id": "_glGMzX6TI0X",
        "colab_type": "code",
        "colab": {
          "base_uri": "https://localhost:8080/",
          "height": 67
        },
        "outputId": "928ab983-f619-4a57-a794-82a45feb6f7a"
      },
      "source": [
        "#2Q:Quick transportation of goods as per given rates to be caluclated...\n",
        "dis = int(input(\"Distance to be travel:\"))\n",
        "wgt = int(input(\"weight of the goods:\"))\n",
        "if dis>=500 :\n",
        "   if wgt>=100 :\n",
        "      print(\"Amount to be charged:\",5*dis)\n",
        "   elif 100>wgt>=10 :\n",
        "      print(\"Amount to be charged: \",6*dis)\n",
        "   else :\n",
        "      print(\"Amount to be charged: \",7*dis)\n",
        "else :\n",
        "    if wgt>=100 :\n",
        "      print(\"Amount to be charged: \",8*dis)\n",
        "    else :\n",
        "      print(\"Amount to be charged: \",5*dis)"
      ],
      "execution_count": 17,
      "outputs": [
        {
          "output_type": "stream",
          "text": [
            "Distance to be travel:520\n",
            "weight of the goods:50\n",
            "Amount to be charged:  3120\n"
          ],
          "name": "stdout"
        }
      ]
    },
    {
      "cell_type": "code",
      "metadata": {
        "id": "td1BIOW6YiFS",
        "colab_type": "code",
        "colab": {
          "base_uri": "https://localhost:8080/",
          "height": 84
        },
        "outputId": "759cfc80-27be-4b3f-f4c9-fa08ea303662"
      },
      "source": [
        "#3Q:Entertainment paradise\n",
        "num=int(input(\"Number of tickets:\"))\n",
        "typ=input(\"Type of seat:\").upper()\n",
        "pay=input(\"Payment mode (cash/credit):\").upper()\n",
        "if typ==\"STALL\" :\n",
        "    s=625\n",
        "elif typ==\"CIRCLE\" :\n",
        "    s=750\n",
        "elif typ==\"UPPER CLASS\" :\n",
        "    s=850\n",
        "elif typ==\"BOX\" :\n",
        "    s=1000\n",
        "else :\n",
        "   print(\"type is not mentioned above....\")\n",
        "if pay==\"CASH\" :\n",
        "    amt=num*(s-(s*10//100))\n",
        "elif pay==\"CREDIT\" :\n",
        "     amt=num*(s-(s*5//100))\n",
        "else :\n",
        "    print(\"PAYMENT MODE NOT ACCEPTED.....\")\n",
        "print(\"Total cost of tickets: \",amt)"
      ],
      "execution_count": 70,
      "outputs": [
        {
          "output_type": "stream",
          "text": [
            "Number of tickets:1\n",
            "Type of seat:box\n",
            "Payment mode (cash/credit):cash\n",
            "Total cost of tickets:  900\n"
          ],
          "name": "stdout"
        }
      ]
    },
    {
      "cell_type": "code",
      "metadata": {
        "id": "2S6pTCxXjcdo",
        "colab_type": "code",
        "colab": {
          "base_uri": "https://localhost:8080/",
          "height": 84
        },
        "outputId": "dced8dcb-8b40-4d67-f9c4-62e26c6ef502"
      },
      "source": [
        "#4Q:Energy required to heat the water temperature.....\n",
        "intial=int(input(\"Enter the INITIAL temperature of water: \"))\n",
        "final=int(input(\"Enter the FINAL temperature of water: \"))\n",
        "M=int(input(\"Enter Mass of the water in kgms: \"))\n",
        "Q=M*(final-intial)*4184\n",
        "print(\"Energy required to heat the water: \",Q)"
      ],
      "execution_count": 32,
      "outputs": [
        {
          "output_type": "stream",
          "text": [
            "Enter the INITIAL temperature of water: 15\n",
            "Enter the FINAL temperature of water: 45\n",
            "Enter Mass of the water in kgms: 35\n",
            "Energy required to heat the water:  4393200\n"
          ],
          "name": "stdout"
        }
      ]
    },
    {
      "cell_type": "code",
      "metadata": {
        "id": "xiBZelSgnLyG",
        "colab_type": "code",
        "colab": {
          "base_uri": "https://localhost:8080/",
          "height": 50
        },
        "outputId": "a33acabb-8c42-4ba0-8069-b2b73d4d8134"
      },
      "source": [
        "#5Q:Seasons with month.....\n",
        "month=input(\"Enter the month: \").upper()\n",
        "if month==\"JANUARY\" or month==\"FEBRUARY\" or month==\"DECEMBER\" :\n",
        "  print(\"Season is WINTER\")\n",
        "elif month==\"MARCH\" or month==\"APRIL\" or month==\"MAY\" :\n",
        "  print(\"Season is SPRING\")\n",
        "elif month==\"JUNE\" or month==\"JULY\" or month==\"AUGUST\" :\n",
        "  print(\"Season is SUMMER\")\n",
        "elif month==\"SEPEMBER\" or month==\"OCTOBER\" or month==\"NOVEMBER\" :\n",
        "  print(\"Season is AUTUMN\")\n",
        "else :\n",
        "  print(\"plz..type th month....\")\n",
        "\n",
        "  "
      ],
      "execution_count": 72,
      "outputs": [
        {
          "output_type": "stream",
          "text": [
            "Enter the month: july\n",
            "Season is SUMMER\n"
          ],
          "name": "stdout"
        }
      ]
    },
    {
      "cell_type": "code",
      "metadata": {
        "id": "QKo3W-iurSYq",
        "colab_type": "code",
        "colab": {
          "base_uri": "https://localhost:8080/",
          "height": 67
        },
        "outputId": "a3f9001b-da76-49a7-b422-3603069ba42a"
      },
      "source": [
        "#6Q:Body Mass Index.......\n",
        "wgt=int(input(\"enter the weight of the person in pounds: \"))    #weight is recorded in pounds....\n",
        "ht=int(input(\"enter th height of th person in inches: \"))       #height is recorded in inches....\n",
        "wgt_kgms=float(wgt*0.45359273)     #weight in pounds must be converted to kilograms to caluclate BMI......\n",
        "ht_mt=float(ht*0.0254)             #height in inches must be converted to meters to caluclate BMI.....\n",
        "bmi=(wgt_kgms/ht_mt*ht_mt**2)\n",
        "if bmi<18.5 :\n",
        "  print(\"person is 'UNDER WEIGHT'\")\n",
        "elif 18.5<=bmi<25.0 :\n",
        "  print(\"person is 'NORMAL'\")\n",
        "elif 25.0<=bmi<30.0 :\n",
        "  print(\"person is 'OVER WEIGHT'\")\n",
        "else :\n",
        "  print(\"person is 'OBESE'\")\n"
      ],
      "execution_count": 76,
      "outputs": [
        {
          "output_type": "stream",
          "text": [
            "enter the weight of the person in pounds: 35\n",
            "enter th height of th person in inches: 48\n",
            "person is 'NORMAL'\n"
          ],
          "name": "stdout"
        }
      ]
    },
    {
      "cell_type": "code",
      "metadata": {
        "id": "tBbIryNvx4Ws",
        "colab_type": "code",
        "colab": {
          "base_uri": "https://localhost:8080/",
          "height": 50
        },
        "outputId": "14cc4b10-275c-4030-ddba-0851e05bde69"
      },
      "source": [
        "#7Q:Adding the sum of the digits.....\n",
        "num=input(\"enter the number from 100 to 1000: \")\n",
        "sum=0\n",
        "for i in num :\n",
        "  sum = sum + int(i)\n",
        "print(sum)\n"
      ],
      "execution_count": 79,
      "outputs": [
        {
          "output_type": "stream",
          "text": [
            "enter the number from 100 to 1000: 456\n",
            "15\n"
          ],
          "name": "stdout"
        }
      ]
    },
    {
      "cell_type": "code",
      "metadata": {
        "id": "6qSvLtkH0pop",
        "colab_type": "code",
        "colab": {
          "base_uri": "https://localhost:8080/",
          "height": 1000
        },
        "outputId": "345fa4e5-6604-42ea-e34d-ddc501b2d9be"
      },
      "source": [
        "#8Q:Palindrome numbers in given range....\n",
        "for n in range(1,1001):\n",
        "  sum=0\n",
        "  t=n\n",
        "  while n>0:\n",
        "    z=n%10                  #gives the last digit of the given number....\n",
        "    n=int(n/10)             #gives the remaining digits of the given number....\n",
        "    sum = sum * 10 + z      #gives the last singel digit of the number and by repeating we get the reverse of number......\n",
        "  if t==sum :\n",
        "    print(t)"
      ],
      "execution_count": 52,
      "outputs": [
        {
          "output_type": "stream",
          "text": [
            "1\n",
            "2\n",
            "3\n",
            "4\n",
            "5\n",
            "6\n",
            "7\n",
            "8\n",
            "9\n",
            "11\n",
            "22\n",
            "33\n",
            "44\n",
            "55\n",
            "66\n",
            "77\n",
            "88\n",
            "99\n",
            "101\n",
            "111\n",
            "121\n",
            "131\n",
            "141\n",
            "151\n",
            "161\n",
            "171\n",
            "181\n",
            "191\n",
            "202\n",
            "212\n",
            "222\n",
            "232\n",
            "242\n",
            "252\n",
            "262\n",
            "272\n",
            "282\n",
            "292\n",
            "303\n",
            "313\n",
            "323\n",
            "333\n",
            "343\n",
            "353\n",
            "363\n",
            "373\n",
            "383\n",
            "393\n",
            "404\n",
            "414\n",
            "424\n",
            "434\n",
            "444\n",
            "454\n",
            "464\n",
            "474\n",
            "484\n",
            "494\n",
            "505\n",
            "515\n",
            "525\n",
            "535\n",
            "545\n",
            "555\n",
            "565\n",
            "575\n",
            "585\n",
            "595\n",
            "606\n",
            "616\n",
            "626\n",
            "636\n",
            "646\n",
            "656\n",
            "666\n",
            "676\n",
            "686\n",
            "696\n",
            "707\n",
            "717\n",
            "727\n",
            "737\n",
            "747\n",
            "757\n",
            "767\n",
            "777\n",
            "787\n",
            "797\n",
            "808\n",
            "818\n",
            "828\n",
            "838\n",
            "848\n",
            "858\n",
            "868\n",
            "878\n",
            "888\n",
            "898\n",
            "909\n",
            "919\n",
            "929\n",
            "939\n",
            "949\n",
            "959\n",
            "969\n",
            "979\n",
            "989\n",
            "999\n"
          ],
          "name": "stdout"
        }
      ]
    },
    {
      "cell_type": "code",
      "metadata": {
        "id": "3xibLPXz22lZ",
        "colab_type": "code",
        "colab": {
          "base_uri": "https://localhost:8080/",
          "height": 235
        },
        "outputId": "e60fd17c-7d22-4cca-8199-6057e9616303"
      },
      "source": [
        "#9Q:Armstrong number in between the given range....\n",
        "for s in range(1,1001):\n",
        "  sum=0\n",
        "  c=s\n",
        "  xyz = len(str(s))\n",
        "  while s>0:\n",
        "    z=s%10\n",
        "    sum = sum + z**xyz\n",
        "    s=int(s/10)\n",
        "  if c==sum :\n",
        "    print(c)\n"
      ],
      "execution_count": 81,
      "outputs": [
        {
          "output_type": "stream",
          "text": [
            "1\n",
            "2\n",
            "3\n",
            "4\n",
            "5\n",
            "6\n",
            "7\n",
            "8\n",
            "9\n",
            "153\n",
            "370\n",
            "371\n",
            "407\n"
          ],
          "name": "stdout"
        }
      ]
    },
    {
      "cell_type": "code",
      "metadata": {
        "id": "KtDOVO-M-JnL",
        "colab_type": "code",
        "colab": {
          "base_uri": "https://localhost:8080/",
          "height": 50
        },
        "outputId": "b80f424d-0f96-4d0e-88dd-55897a78b2d3"
      },
      "source": [
        "#10Q:FIZZBUZZ......\n",
        "num=int(input(\"enter the number between 1 to 100: \"))\n",
        "if num%3==0 and num%5==0 :\n",
        "  print(\"fizz buzz\")\n",
        "elif num%3==0 :\n",
        "  print(\"fizz\")\n",
        "elif num%5==0 :\n",
        "  print(\"buzz\")\n",
        "else :\n",
        "  print(\"the number is neither multiple of 3 nor 5\")"
      ],
      "execution_count": 92,
      "outputs": [
        {
          "output_type": "stream",
          "text": [
            "enter the number between 1 to 100: 15\n",
            "fizz buzz\n"
          ],
          "name": "stdout"
        }
      ]
    },
    {
      "cell_type": "code",
      "metadata": {
        "id": "mEERsIcBAJLG",
        "colab_type": "code",
        "colab": {
          "base_uri": "https://localhost:8080/",
          "height": 84
        },
        "outputId": "6ba079a9-a601-48a7-a9d9-7f05ca91d6bd"
      },
      "source": [
        "#11Q:Spider problem....\n",
        "H = int(input(\"Enter the height of the well: \"))\n",
        "U = int(input(\"Enter the meters climbed up by the spider: \"))\n",
        "D = int(input(\"Enter the meter slipped down by the spider: \"))\n",
        "S=((H-U)+(U-D))//(U-D)\n",
        "print(S+1)"
      ],
      "execution_count": 96,
      "outputs": [
        {
          "output_type": "stream",
          "text": [
            "Enter the height of the well: 200\n",
            "Enter the meters climbed up by the spider: 50\n",
            "Enter the meter slipped down by the spider: 1\n",
            "5\n"
          ],
          "name": "stdout"
        }
      ]
    }
  ]
}